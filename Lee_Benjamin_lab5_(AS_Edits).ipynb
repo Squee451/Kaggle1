{
  "nbformat": 4,
  "nbformat_minor": 0,
  "metadata": {
    "kernelspec": {
      "display_name": "Python [default]",
      "language": "python",
      "name": "python3"
    },
    "language_info": {
      "codemirror_mode": {
        "name": "ipython",
        "version": 3
      },
      "file_extension": ".py",
      "mimetype": "text/x-python",
      "name": "python",
      "nbconvert_exporter": "python",
      "pygments_lexer": "ipython3",
      "version": "3.5.6"
    },
    "colab": {
      "name": "Lee_Benjamin_lab5 (AS_Edits).ipynb",
      "provenance": []
    }
  },
  "cells": [
    {
      "cell_type": "markdown",
      "metadata": {
        "id": "IHQ4rW4Das_f",
        "colab_type": "text"
      },
      "source": [
        "# Lab 5: Kaggle Competition"
      ]
    },
    {
      "cell_type": "markdown",
      "metadata": {
        "id": "pxoc5lnKas_k",
        "colab_type": "text"
      },
      "source": [
        "In this lab, I will be building a predictive model for a yelp dataset"
      ]
    },
    {
      "cell_type": "markdown",
      "metadata": {
        "id": "I7k2SG7bas_n",
        "colab_type": "text"
      },
      "source": [
        "## Import Libraries"
      ]
    },
    {
      "cell_type": "code",
      "metadata": {
        "id": "vndcsJDvas_q",
        "colab_type": "code",
        "colab": {}
      },
      "source": [
        "import pandas as pd\n",
        "import numpy as np\n",
        "import re\n",
        "from datetime import datetime\n",
        "\n",
        "from sklearn.preprocessing import LabelEncoder, OneHotEncoder, MultiLabelBinarizer\n",
        "from sklearn.feature_extraction import DictVectorizer\n",
        "from sklearn.model_selection  import train_test_split, cross_val_score, cross_val_predict, KFold, GridSearchCV\n",
        "\n",
        "from sklearn.svm import SVC\n",
        "from sklearn.svm import LinearSVC\n",
        "from sklearn.linear_model import LogisticRegression\n",
        "from sklearn.tree import DecisionTreeClassifier\n",
        "\n",
        "from sklearn.model_selection import cross_validate\n",
        "from sklearn.metrics import accuracy_score"
      ],
      "execution_count": 0,
      "outputs": []
    },
    {
      "cell_type": "code",
      "metadata": {
        "id": "AYC31D_Has_0",
        "colab_type": "code",
        "colab": {
          "base_uri": "https://localhost:8080/",
          "height": 209
        },
        "outputId": "17401d4d-3976-4345-8511-cd2cd8e64ed6"
      },
      "source": [
        "import os \n",
        "os.getcwd()\n",
        "os.chdir('C:/Users/adams/Downloads')"
      ],
      "execution_count": 8,
      "outputs": [
        {
          "output_type": "error",
          "ename": "FileNotFoundError",
          "evalue": "ignored",
          "traceback": [
            "\u001b[0;31m---------------------------------------------------------------------------\u001b[0m",
            "\u001b[0;31mFileNotFoundError\u001b[0m                         Traceback (most recent call last)",
            "\u001b[0;32m<ipython-input-8-ff2c3805e989>\u001b[0m in \u001b[0;36m<module>\u001b[0;34m()\u001b[0m\n\u001b[1;32m      1\u001b[0m \u001b[0;32mimport\u001b[0m \u001b[0mos\u001b[0m\u001b[0;34m\u001b[0m\u001b[0;34m\u001b[0m\u001b[0m\n\u001b[1;32m      2\u001b[0m \u001b[0mos\u001b[0m\u001b[0;34m.\u001b[0m\u001b[0mgetcwd\u001b[0m\u001b[0;34m(\u001b[0m\u001b[0;34m)\u001b[0m\u001b[0;34m\u001b[0m\u001b[0;34m\u001b[0m\u001b[0m\n\u001b[0;32m----> 3\u001b[0;31m \u001b[0mos\u001b[0m\u001b[0;34m.\u001b[0m\u001b[0mchdir\u001b[0m\u001b[0;34m(\u001b[0m\u001b[0;34m'C:/Users/adams/Downloads'\u001b[0m\u001b[0;34m)\u001b[0m\u001b[0;34m\u001b[0m\u001b[0;34m\u001b[0m\u001b[0m\n\u001b[0m",
            "\u001b[0;31mFileNotFoundError\u001b[0m: [Errno 2] No such file or directory: 'C:/Users/adams/Downloads'"
          ]
        }
      ]
    },
    {
      "cell_type": "markdown",
      "metadata": {
        "id": "YebEkh1mas_8",
        "colab_type": "text"
      },
      "source": [
        ""
      ]
    },
    {
      "cell_type": "markdown",
      "metadata": {
        "id": "kNoRaOUMas_-",
        "colab_type": "text"
      },
      "source": [
        "## Import Data "
      ]
    },
    {
      "cell_type": "code",
      "metadata": {
        "id": "ZwpvSl1Bas__",
        "colab_type": "code",
        "colab": {}
      },
      "source": [
        "df_train = pd.read_csv(\"./Data/yelp_train.csv\")\n",
        "df_test = pd.read_csv(\"./Data/yelp_test.csv\")"
      ],
      "execution_count": 0,
      "outputs": []
    },
    {
      "cell_type": "markdown",
      "metadata": {
        "id": "XtODVYZpatAF",
        "colab_type": "text"
      },
      "source": [
        "## Data Preprocessing"
      ]
    },
    {
      "cell_type": "code",
      "metadata": {
        "id": "wjpidfBwatAH",
        "colab_type": "code",
        "colab": {}
      },
      "source": [
        "#split into labels and features\n",
        "X_train = df_train.drop([\"review_id\", \"is_good_rating\"], axis=1)\n",
        "y_train = df_train.is_good_rating\n",
        "\n",
        "X_test = df_test.drop('review_id', axis=1)"
      ],
      "execution_count": 0,
      "outputs": []
    },
    {
      "cell_type": "code",
      "metadata": {
        "id": "FpX8yyOAatAN",
        "colab_type": "code",
        "colab": {}
      },
      "source": [
        "#categorize businesses\n",
        "# bus_cat_train = X_train['business_categories'].fillna(\"None\")\n",
        "# bus_cat_train = bus_cat_train.apply(lambda x : x.split(','))\n",
        "\n",
        "# mlb = MultiLabelBinarizer()\n",
        "# bus_cat_train = mlb.fit_transform(bus_cat_train)\n",
        "\n",
        "# #categorize businesses\n",
        "# bus_cat_test = X_test['business_categories'].fillna(\"None\")\n",
        "# bus_cat_test = bus_cat_test.apply(lambda x : x.split(','))\n",
        "\n",
        "# bus_cat_test = mlb.transform(bus_cat_test)"
      ],
      "execution_count": 0,
      "outputs": []
    },
    {
      "cell_type": "code",
      "metadata": {
        "id": "q4J5APWmatAU",
        "colab_type": "code",
        "colab": {}
      },
      "source": [
        "# bus_cat_train #onehotencoded df of types of businesses"
      ],
      "execution_count": 0,
      "outputs": []
    },
    {
      "cell_type": "code",
      "metadata": {
        "id": "sHBooWxIatAZ",
        "colab_type": "code",
        "colab": {}
      },
      "source": [
        "# bus_cat_train = pd.DataFrame(bus_cat_train)\n",
        "# bus_cat_train.head()"
      ],
      "execution_count": 0,
      "outputs": []
    },
    {
      "cell_type": "code",
      "metadata": {
        "id": "h3W0i6ofatAe",
        "colab_type": "code",
        "colab": {},
        "outputId": "d92b4246-a7c8-4b6c-965f-7f75d5681c4d"
      },
      "source": [
        "X_train.head()"
      ],
      "execution_count": 0,
      "outputs": [
        {
          "output_type": "execute_result",
          "data": {
            "text/html": [
              "<div>\n",
              "<style scoped>\n",
              "    .dataframe tbody tr th:only-of-type {\n",
              "        vertical-align: middle;\n",
              "    }\n",
              "\n",
              "    .dataframe tbody tr th {\n",
              "        vertical-align: top;\n",
              "    }\n",
              "\n",
              "    .dataframe thead th {\n",
              "        text-align: right;\n",
              "    }\n",
              "</style>\n",
              "<table border=\"1\" class=\"dataframe\">\n",
              "  <thead>\n",
              "    <tr style=\"text-align: right;\">\n",
              "      <th></th>\n",
              "      <th>business_id</th>\n",
              "      <th>user_id</th>\n",
              "      <th>date</th>\n",
              "      <th>cool</th>\n",
              "      <th>funny</th>\n",
              "      <th>useful</th>\n",
              "      <th>text</th>\n",
              "      <th>user_average_stars</th>\n",
              "      <th>user_elite</th>\n",
              "      <th>user_review_count</th>\n",
              "      <th>user_yelping_since</th>\n",
              "      <th>business_categories</th>\n",
              "      <th>business_city</th>\n",
              "      <th>business_latitude</th>\n",
              "      <th>business_longitude</th>\n",
              "      <th>business_review_count</th>\n",
              "      <th>business_average_stars</th>\n",
              "      <th>business_state</th>\n",
              "    </tr>\n",
              "  </thead>\n",
              "  <tbody>\n",
              "    <tr>\n",
              "      <th>0</th>\n",
              "      <td>8zN3nV0zbtE377_XhlvabA</td>\n",
              "      <td>MWahC54Rd_CNv_0VtjCD6A</td>\n",
              "      <td>2017-06-27</td>\n",
              "      <td>0</td>\n",
              "      <td>0</td>\n",
              "      <td>0</td>\n",
              "      <td>Pool tables, darts, and other neighborhood bar...</td>\n",
              "      <td>2.00</td>\n",
              "      <td>None</td>\n",
              "      <td>5</td>\n",
              "      <td>2013-10-23</td>\n",
              "      <td>Restaurants, Sports Bars, Bars, American (Trad...</td>\n",
              "      <td>Chandler</td>\n",
              "      <td>33.336050</td>\n",
              "      <td>-111.844343</td>\n",
              "      <td>158</td>\n",
              "      <td>4.0</td>\n",
              "      <td>AZ</td>\n",
              "    </tr>\n",
              "    <tr>\n",
              "      <th>1</th>\n",
              "      <td>wJ-PcjemwR44WitIJsDzsA</td>\n",
              "      <td>N-GOto4b3ltfGJ7y-5g-pg</td>\n",
              "      <td>2017-03-25</td>\n",
              "      <td>0</td>\n",
              "      <td>0</td>\n",
              "      <td>0</td>\n",
              "      <td>This place was alright. However, their classic...</td>\n",
              "      <td>4.43</td>\n",
              "      <td>None</td>\n",
              "      <td>7</td>\n",
              "      <td>2016-07-04</td>\n",
              "      <td>Beauty &amp; Spas, Nail Salons</td>\n",
              "      <td>Fort Mill</td>\n",
              "      <td>35.058040</td>\n",
              "      <td>-80.937064</td>\n",
              "      <td>26</td>\n",
              "      <td>3.5</td>\n",
              "      <td>SC</td>\n",
              "    </tr>\n",
              "    <tr>\n",
              "      <th>2</th>\n",
              "      <td>fP4sMlVw_MvyGNv4xeTGDA</td>\n",
              "      <td>RH3w77UyXaQPiOx2jOE7zg</td>\n",
              "      <td>2017-07-14</td>\n",
              "      <td>0</td>\n",
              "      <td>0</td>\n",
              "      <td>0</td>\n",
              "      <td>First time at Pieology Pizzeria and I was impr...</td>\n",
              "      <td>4.09</td>\n",
              "      <td>None</td>\n",
              "      <td>21</td>\n",
              "      <td>2013-09-05</td>\n",
              "      <td>Pizza, Restaurants</td>\n",
              "      <td>Las Vegas</td>\n",
              "      <td>36.114884</td>\n",
              "      <td>-115.155604</td>\n",
              "      <td>189</td>\n",
              "      <td>4.0</td>\n",
              "      <td>NV</td>\n",
              "    </tr>\n",
              "    <tr>\n",
              "      <th>3</th>\n",
              "      <td>hgWMxKhrnOUd3m5nOUBIkA</td>\n",
              "      <td>g6pwf1E-CylnZQRoaZGGdw</td>\n",
              "      <td>2010-12-13</td>\n",
              "      <td>1</td>\n",
              "      <td>0</td>\n",
              "      <td>0</td>\n",
              "      <td>Its a good facility with lots of equipment and...</td>\n",
              "      <td>3.55</td>\n",
              "      <td>2013, 2012</td>\n",
              "      <td>83</td>\n",
              "      <td>2010-09-03</td>\n",
              "      <td>Active Life, Fitness &amp; Instruction, Trainers, ...</td>\n",
              "      <td>Las Vegas</td>\n",
              "      <td>36.025332</td>\n",
              "      <td>-115.120852</td>\n",
              "      <td>316</td>\n",
              "      <td>3.0</td>\n",
              "      <td>NV</td>\n",
              "    </tr>\n",
              "    <tr>\n",
              "      <th>4</th>\n",
              "      <td>KMKPusWbBaIORB669W0EeQ</td>\n",
              "      <td>14nl002my6qLaEcqYHLPig</td>\n",
              "      <td>2016-09-12</td>\n",
              "      <td>1</td>\n",
              "      <td>1</td>\n",
              "      <td>1</td>\n",
              "      <td>Very very disappointed! My shawarma chicken wa...</td>\n",
              "      <td>3.75</td>\n",
              "      <td>None</td>\n",
              "      <td>28</td>\n",
              "      <td>2016-03-24</td>\n",
              "      <td>Mediterranean, Restaurants</td>\n",
              "      <td>Henderson</td>\n",
              "      <td>36.005901</td>\n",
              "      <td>-115.111863</td>\n",
              "      <td>61</td>\n",
              "      <td>3.5</td>\n",
              "      <td>NV</td>\n",
              "    </tr>\n",
              "  </tbody>\n",
              "</table>\n",
              "</div>"
            ],
            "text/plain": [
              "              business_id                 user_id        date  cool  funny  \\\n",
              "0  8zN3nV0zbtE377_XhlvabA  MWahC54Rd_CNv_0VtjCD6A  2017-06-27     0      0   \n",
              "1  wJ-PcjemwR44WitIJsDzsA  N-GOto4b3ltfGJ7y-5g-pg  2017-03-25     0      0   \n",
              "2  fP4sMlVw_MvyGNv4xeTGDA  RH3w77UyXaQPiOx2jOE7zg  2017-07-14     0      0   \n",
              "3  hgWMxKhrnOUd3m5nOUBIkA  g6pwf1E-CylnZQRoaZGGdw  2010-12-13     1      0   \n",
              "4  KMKPusWbBaIORB669W0EeQ  14nl002my6qLaEcqYHLPig  2016-09-12     1      1   \n",
              "\n",
              "   useful                                               text  \\\n",
              "0       0  Pool tables, darts, and other neighborhood bar...   \n",
              "1       0  This place was alright. However, their classic...   \n",
              "2       0  First time at Pieology Pizzeria and I was impr...   \n",
              "3       0  Its a good facility with lots of equipment and...   \n",
              "4       1  Very very disappointed! My shawarma chicken wa...   \n",
              "\n",
              "   user_average_stars  user_elite  user_review_count user_yelping_since  \\\n",
              "0                2.00        None                  5         2013-10-23   \n",
              "1                4.43        None                  7         2016-07-04   \n",
              "2                4.09        None                 21         2013-09-05   \n",
              "3                3.55  2013, 2012                 83         2010-09-03   \n",
              "4                3.75        None                 28         2016-03-24   \n",
              "\n",
              "                                 business_categories business_city  \\\n",
              "0  Restaurants, Sports Bars, Bars, American (Trad...      Chandler   \n",
              "1                         Beauty & Spas, Nail Salons     Fort Mill   \n",
              "2                                 Pizza, Restaurants     Las Vegas   \n",
              "3  Active Life, Fitness & Instruction, Trainers, ...     Las Vegas   \n",
              "4                         Mediterranean, Restaurants     Henderson   \n",
              "\n",
              "   business_latitude  business_longitude  business_review_count  \\\n",
              "0          33.336050         -111.844343                    158   \n",
              "1          35.058040          -80.937064                     26   \n",
              "2          36.114884         -115.155604                    189   \n",
              "3          36.025332         -115.120852                    316   \n",
              "4          36.005901         -115.111863                     61   \n",
              "\n",
              "   business_average_stars business_state  \n",
              "0                     4.0             AZ  \n",
              "1                     3.5             SC  \n",
              "2                     4.0             NV  \n",
              "3                     3.0             NV  \n",
              "4                     3.5             NV  "
            ]
          },
          "metadata": {
            "tags": []
          },
          "execution_count": 49
        }
      ]
    },
    {
      "cell_type": "markdown",
      "metadata": {
        "id": "4mkLC1x5atAk",
        "colab_type": "text"
      },
      "source": [
        "### Differentiate good and bad reviews by keywords"
      ]
    },
    {
      "cell_type": "code",
      "metadata": {
        "id": "RNowmM52atAm",
        "colab_type": "code",
        "colab": {}
      },
      "source": [
        "# make some categoricals from text feature\n",
        "good_tr = X_train.text.apply(lambda x : 1 if re.search(r'good', x) else 0)\n",
        "great_tr = X_train.text.apply(lambda x : 1 if re.search(r'great', x) else 0)\n",
        "bad_tr = X_train.text.apply(lambda x : 1 if re.search(r'bad', x) else 0)\n",
        "amazing_tr = X_train.text.apply(lambda x : 1 if re.search(r'amazing', x) else 0)\n",
        "awesome_tr = X_train.text.apply(lambda x : 1 if re.search(r'awesome', x) else 0)\n",
        "best_tr= X_train.text.apply(lambda x : 1 if re.search(r'best', x) else 0)\n",
        "worst_tr= X_train.text.apply(lambda x : 1 if re.search(r'worst', x) else 0)\n",
        "love_tr= X_train.text.apply(lambda x : 1 if re.search(r'love', x) else 0)\n",
        "hate_tr= X_train.text.apply(lambda x : 1 if re.search(r'hate', x) else 0)\n",
        "favorite_tr= X_train.text.apply(lambda x : 1 if re.search(r'favorite', x) else 0)\n",
        "disgusting_tr=X_train.text.apply(lambda x : 1 if re.search(r'disgusting', x) else 0)\n",
        "awful_tr=X_train.text.apply(lambda x : 1 if re.search(r'awful', x) else 0)\n"
      ],
      "execution_count": 0,
      "outputs": []
    },
    {
      "cell_type": "code",
      "metadata": {
        "id": "xeC5fT-IatAq",
        "colab_type": "code",
        "colab": {}
      },
      "source": [
        "# turn into dataframe\n",
        "common_words_train = pd.DataFrame({'good' : good_tr, 'bad' : bad_tr, 'great' : great_tr, 'amazing' : amazing_tr, \n",
        "                                   'awesome': awesome_tr, 'best':best_tr, 'worst':worst_tr, 'love':love_tr, 'hate':hate_tr,\n",
        "                                  'favorite':favorite_tr, 'disgusting':disgusting_tr, 'awful':awful_tr} )"
      ],
      "execution_count": 0,
      "outputs": []
    },
    {
      "cell_type": "code",
      "metadata": {
        "id": "aHO7Fe98atAv",
        "colab_type": "code",
        "colab": {}
      },
      "source": [
        "# make some categoricals from text feature repeat for test data\n",
        "good_tst = X_test.text.apply(lambda x : 1 if re.search(r'good', x) else 0)\n",
        "great_tst = X_test.text.apply(lambda x : 1 if re.search(r'great', x) else 0)\n",
        "bad_tst = X_test.text.apply(lambda x : 1 if re.search(r'bad', x) else 0)\n",
        "amazing_tst = X_test.text.apply(lambda x : 1 if re.search(r'amazing', x) else 0)\n",
        "awesome_tst = X_test.text.apply(lambda x : 1 if re.search(r'awesome', x) else 0)\n",
        "best_tst= X_test.text.apply(lambda x : 1 if re.search(r'best', x) else 0)\n",
        "worst_tst= X_test.text.apply(lambda x : 1 if re.search(r'worst', x) else 0)\n",
        "love_tst= X_test.text.apply(lambda x : 1 if re.search(r'love', x) else 0)\n",
        "hate_tst= X_test.text.apply(lambda x : 1 if re.search(r'hate', x) else 0)\n",
        "favorite_tst= X_test.text.apply(lambda x : 1 if re.search(r'favorite', x) else 0)\n",
        "disgusting_tst=X_test.text.apply(lambda x : 1 if re.search(r'disgusting', x) else 0)\n",
        "awful_tst=X_test.text.apply(lambda x : 1 if re.search(r'awful', x) else 0)\n"
      ],
      "execution_count": 0,
      "outputs": []
    },
    {
      "cell_type": "code",
      "metadata": {
        "id": "B--kY-ZIatA0",
        "colab_type": "code",
        "colab": {}
      },
      "source": [
        "# turn into dataframe\n",
        "common_words_tst = pd.DataFrame({'good' : good_tst, 'bad' : bad_tst, 'great' : great_tst, 'amazing' : amazing_tst, \n",
        "                                 'awesome': awesome_tst, 'best':best_tst, 'worst':worst_tst, 'love':love_tst,\n",
        "                                'hate':hate_tst, 'favorite':favorite_tst, 'disgusting':disgusting_tst, 'awful':awful_tst})"
      ],
      "execution_count": 0,
      "outputs": []
    },
    {
      "cell_type": "markdown",
      "metadata": {
        "id": "GbKbN0xDatA4",
        "colab_type": "text"
      },
      "source": [
        "### Differentiate elite yelpers from non-elite"
      ]
    },
    {
      "cell_type": "code",
      "metadata": {
        "id": "r6kvjutsatA6",
        "colab_type": "code",
        "colab": {}
      },
      "source": [
        "#turn user elite column into number of times user has been user elite\n",
        "user_elite_tr = X_train.user_elite.apply(lambda x : 0 if x == 'None' else len(x.split(\",\")))\n",
        "user_elite_tst = X_test.user_elite.apply(lambda x : 0 if x == 'None' else len(x.split(\",\")))"
      ],
      "execution_count": 0,
      "outputs": []
    },
    {
      "cell_type": "markdown",
      "metadata": {
        "id": "Uv-MNqvYatA-",
        "colab_type": "text"
      },
      "source": [
        "### Calculate diff from start of yelp to the year of the review"
      ]
    },
    {
      "cell_type": "code",
      "metadata": {
        "id": "Tgz2d8w3atA_",
        "colab_type": "code",
        "colab": {}
      },
      "source": [
        "review_date_tr = X_train.date.apply(lambda x: datetime.strptime(x, '%Y-%m-%d').year)\n",
        "start_date_tr = X_train.user_yelping_since.apply(lambda x: datetime.strptime(x, '%Y-%m-%d').year)\n",
        "\n",
        "date_diff_tr = review_date_tr-start_date_tr"
      ],
      "execution_count": 0,
      "outputs": []
    },
    {
      "cell_type": "code",
      "metadata": {
        "id": "gUfCL_4batBE",
        "colab_type": "code",
        "colab": {}
      },
      "source": [
        "review_date_tst = X_test.date.apply(lambda x: datetime.strptime(x, '%Y-%m-%d').year)\n",
        "start_date_tst = X_test.user_yelping_since.apply(lambda x: datetime.strptime(x, '%Y-%m-%d').year)\n",
        "\n",
        "date_diff_tst = review_date_tst-start_date_tst"
      ],
      "execution_count": 0,
      "outputs": []
    },
    {
      "cell_type": "markdown",
      "metadata": {
        "id": "Y9qu6vK_atBI",
        "colab_type": "text"
      },
      "source": [
        "## Update Training Data and Test Data"
      ]
    },
    {
      "cell_type": "code",
      "metadata": {
        "id": "v_71oiCMatBJ",
        "colab_type": "code",
        "colab": {},
        "outputId": "343df767-2ab7-4e09-dcce-f89733dcb464"
      },
      "source": [
        "new_X_train = X_train.drop(['text', 'business_id', 'user_id', 'business_categories', 'business_latitude', \n",
        "              'business_longitude', 'business_state', 'business_city', 'date', 'user_yelping_since'], axis=1)\n",
        "new_X_train['user_elite'] = user_elite_tr\n",
        "new_X_train['date_diff'] = date_diff_tr\n",
        "new_X_train = new_X_train.join(common_words_train)\n",
        "new_X_train.head()"
      ],
      "execution_count": 0,
      "outputs": [
        {
          "output_type": "execute_result",
          "data": {
            "text/html": [
              "<div>\n",
              "<style scoped>\n",
              "    .dataframe tbody tr th:only-of-type {\n",
              "        vertical-align: middle;\n",
              "    }\n",
              "\n",
              "    .dataframe tbody tr th {\n",
              "        vertical-align: top;\n",
              "    }\n",
              "\n",
              "    .dataframe thead th {\n",
              "        text-align: right;\n",
              "    }\n",
              "</style>\n",
              "<table border=\"1\" class=\"dataframe\">\n",
              "  <thead>\n",
              "    <tr style=\"text-align: right;\">\n",
              "      <th></th>\n",
              "      <th>cool</th>\n",
              "      <th>funny</th>\n",
              "      <th>useful</th>\n",
              "      <th>user_average_stars</th>\n",
              "      <th>user_elite</th>\n",
              "      <th>user_review_count</th>\n",
              "      <th>business_review_count</th>\n",
              "      <th>business_average_stars</th>\n",
              "      <th>date_diff</th>\n",
              "      <th>amazing</th>\n",
              "      <th>awesome</th>\n",
              "      <th>bad</th>\n",
              "      <th>best</th>\n",
              "      <th>favorite</th>\n",
              "      <th>good</th>\n",
              "      <th>great</th>\n",
              "      <th>hate</th>\n",
              "      <th>love</th>\n",
              "      <th>worst</th>\n",
              "    </tr>\n",
              "  </thead>\n",
              "  <tbody>\n",
              "    <tr>\n",
              "      <th>0</th>\n",
              "      <td>0</td>\n",
              "      <td>0</td>\n",
              "      <td>0</td>\n",
              "      <td>2.00</td>\n",
              "      <td>0</td>\n",
              "      <td>5</td>\n",
              "      <td>158</td>\n",
              "      <td>4.0</td>\n",
              "      <td>4</td>\n",
              "      <td>0</td>\n",
              "      <td>0</td>\n",
              "      <td>0</td>\n",
              "      <td>0</td>\n",
              "      <td>1</td>\n",
              "      <td>0</td>\n",
              "      <td>0</td>\n",
              "      <td>0</td>\n",
              "      <td>0</td>\n",
              "      <td>0</td>\n",
              "    </tr>\n",
              "    <tr>\n",
              "      <th>1</th>\n",
              "      <td>0</td>\n",
              "      <td>0</td>\n",
              "      <td>0</td>\n",
              "      <td>4.43</td>\n",
              "      <td>0</td>\n",
              "      <td>7</td>\n",
              "      <td>26</td>\n",
              "      <td>3.5</td>\n",
              "      <td>1</td>\n",
              "      <td>0</td>\n",
              "      <td>0</td>\n",
              "      <td>0</td>\n",
              "      <td>0</td>\n",
              "      <td>0</td>\n",
              "      <td>0</td>\n",
              "      <td>0</td>\n",
              "      <td>0</td>\n",
              "      <td>0</td>\n",
              "      <td>0</td>\n",
              "    </tr>\n",
              "    <tr>\n",
              "      <th>2</th>\n",
              "      <td>0</td>\n",
              "      <td>0</td>\n",
              "      <td>0</td>\n",
              "      <td>4.09</td>\n",
              "      <td>0</td>\n",
              "      <td>21</td>\n",
              "      <td>189</td>\n",
              "      <td>4.0</td>\n",
              "      <td>4</td>\n",
              "      <td>0</td>\n",
              "      <td>0</td>\n",
              "      <td>0</td>\n",
              "      <td>0</td>\n",
              "      <td>0</td>\n",
              "      <td>0</td>\n",
              "      <td>0</td>\n",
              "      <td>0</td>\n",
              "      <td>0</td>\n",
              "      <td>0</td>\n",
              "    </tr>\n",
              "    <tr>\n",
              "      <th>3</th>\n",
              "      <td>1</td>\n",
              "      <td>0</td>\n",
              "      <td>0</td>\n",
              "      <td>3.55</td>\n",
              "      <td>2</td>\n",
              "      <td>83</td>\n",
              "      <td>316</td>\n",
              "      <td>3.0</td>\n",
              "      <td>0</td>\n",
              "      <td>0</td>\n",
              "      <td>0</td>\n",
              "      <td>0</td>\n",
              "      <td>0</td>\n",
              "      <td>0</td>\n",
              "      <td>1</td>\n",
              "      <td>1</td>\n",
              "      <td>0</td>\n",
              "      <td>1</td>\n",
              "      <td>0</td>\n",
              "    </tr>\n",
              "    <tr>\n",
              "      <th>4</th>\n",
              "      <td>1</td>\n",
              "      <td>1</td>\n",
              "      <td>1</td>\n",
              "      <td>3.75</td>\n",
              "      <td>0</td>\n",
              "      <td>28</td>\n",
              "      <td>61</td>\n",
              "      <td>3.5</td>\n",
              "      <td>0</td>\n",
              "      <td>0</td>\n",
              "      <td>0</td>\n",
              "      <td>0</td>\n",
              "      <td>0</td>\n",
              "      <td>0</td>\n",
              "      <td>0</td>\n",
              "      <td>0</td>\n",
              "      <td>0</td>\n",
              "      <td>0</td>\n",
              "      <td>0</td>\n",
              "    </tr>\n",
              "  </tbody>\n",
              "</table>\n",
              "</div>"
            ],
            "text/plain": [
              "   cool  funny  useful  user_average_stars  user_elite  user_review_count  \\\n",
              "0     0      0       0                2.00           0                  5   \n",
              "1     0      0       0                4.43           0                  7   \n",
              "2     0      0       0                4.09           0                 21   \n",
              "3     1      0       0                3.55           2                 83   \n",
              "4     1      1       1                3.75           0                 28   \n",
              "\n",
              "   business_review_count  business_average_stars  date_diff  amazing  awesome  \\\n",
              "0                    158                     4.0          4        0        0   \n",
              "1                     26                     3.5          1        0        0   \n",
              "2                    189                     4.0          4        0        0   \n",
              "3                    316                     3.0          0        0        0   \n",
              "4                     61                     3.5          0        0        0   \n",
              "\n",
              "   bad  best  favorite  good  great  hate  love  worst  \n",
              "0    0     0         1     0      0     0     0      0  \n",
              "1    0     0         0     0      0     0     0      0  \n",
              "2    0     0         0     0      0     0     0      0  \n",
              "3    0     0         0     1      1     0     1      0  \n",
              "4    0     0         0     0      0     0     0      0  "
            ]
          },
          "metadata": {
            "tags": []
          },
          "execution_count": 92
        }
      ]
    },
    {
      "cell_type": "code",
      "metadata": {
        "id": "IruS742aatBO",
        "colab_type": "code",
        "colab": {},
        "outputId": "93cf92ec-ff9f-446a-a686-1313cfc1f4e7"
      },
      "source": [
        "new_X_test = X_test.drop(['text', 'business_id', 'user_id', 'business_categories', 'business_latitude', \n",
        "              'business_longitude', 'business_state', 'business_city', 'date', 'user_yelping_since'], axis=1)\n",
        "new_X_test['user_elite'] = user_elite_tst\n",
        "new_X_test['date_diff'] = date_diff_tst\n",
        "new_X_test = new_X_test.join(common_words_tst)\n",
        "new_X_test.head()"
      ],
      "execution_count": 0,
      "outputs": [
        {
          "output_type": "execute_result",
          "data": {
            "text/html": [
              "<div>\n",
              "<style scoped>\n",
              "    .dataframe tbody tr th:only-of-type {\n",
              "        vertical-align: middle;\n",
              "    }\n",
              "\n",
              "    .dataframe tbody tr th {\n",
              "        vertical-align: top;\n",
              "    }\n",
              "\n",
              "    .dataframe thead th {\n",
              "        text-align: right;\n",
              "    }\n",
              "</style>\n",
              "<table border=\"1\" class=\"dataframe\">\n",
              "  <thead>\n",
              "    <tr style=\"text-align: right;\">\n",
              "      <th></th>\n",
              "      <th>cool</th>\n",
              "      <th>funny</th>\n",
              "      <th>useful</th>\n",
              "      <th>user_average_stars</th>\n",
              "      <th>user_elite</th>\n",
              "      <th>user_review_count</th>\n",
              "      <th>business_review_count</th>\n",
              "      <th>business_average_stars</th>\n",
              "      <th>date_diff</th>\n",
              "      <th>amazing</th>\n",
              "      <th>awesome</th>\n",
              "      <th>bad</th>\n",
              "      <th>best</th>\n",
              "      <th>favorite</th>\n",
              "      <th>good</th>\n",
              "      <th>great</th>\n",
              "      <th>hate</th>\n",
              "      <th>love</th>\n",
              "      <th>worst</th>\n",
              "    </tr>\n",
              "  </thead>\n",
              "  <tbody>\n",
              "    <tr>\n",
              "      <th>0</th>\n",
              "      <td>2</td>\n",
              "      <td>1</td>\n",
              "      <td>2</td>\n",
              "      <td>3.80</td>\n",
              "      <td>4</td>\n",
              "      <td>369</td>\n",
              "      <td>81</td>\n",
              "      <td>4.0</td>\n",
              "      <td>4</td>\n",
              "      <td>0</td>\n",
              "      <td>0</td>\n",
              "      <td>1</td>\n",
              "      <td>0</td>\n",
              "      <td>0</td>\n",
              "      <td>0</td>\n",
              "      <td>0</td>\n",
              "      <td>0</td>\n",
              "      <td>0</td>\n",
              "      <td>0</td>\n",
              "    </tr>\n",
              "    <tr>\n",
              "      <th>1</th>\n",
              "      <td>1</td>\n",
              "      <td>0</td>\n",
              "      <td>2</td>\n",
              "      <td>3.80</td>\n",
              "      <td>10</td>\n",
              "      <td>483</td>\n",
              "      <td>18</td>\n",
              "      <td>5.0</td>\n",
              "      <td>4</td>\n",
              "      <td>0</td>\n",
              "      <td>1</td>\n",
              "      <td>0</td>\n",
              "      <td>0</td>\n",
              "      <td>0</td>\n",
              "      <td>0</td>\n",
              "      <td>0</td>\n",
              "      <td>0</td>\n",
              "      <td>0</td>\n",
              "      <td>0</td>\n",
              "    </tr>\n",
              "    <tr>\n",
              "      <th>2</th>\n",
              "      <td>1</td>\n",
              "      <td>1</td>\n",
              "      <td>1</td>\n",
              "      <td>4.14</td>\n",
              "      <td>0</td>\n",
              "      <td>7</td>\n",
              "      <td>572</td>\n",
              "      <td>4.0</td>\n",
              "      <td>1</td>\n",
              "      <td>1</td>\n",
              "      <td>0</td>\n",
              "      <td>0</td>\n",
              "      <td>1</td>\n",
              "      <td>0</td>\n",
              "      <td>0</td>\n",
              "      <td>0</td>\n",
              "      <td>0</td>\n",
              "      <td>0</td>\n",
              "      <td>0</td>\n",
              "    </tr>\n",
              "    <tr>\n",
              "      <th>3</th>\n",
              "      <td>1</td>\n",
              "      <td>1</td>\n",
              "      <td>2</td>\n",
              "      <td>4.26</td>\n",
              "      <td>2</td>\n",
              "      <td>131</td>\n",
              "      <td>33</td>\n",
              "      <td>4.0</td>\n",
              "      <td>1</td>\n",
              "      <td>0</td>\n",
              "      <td>0</td>\n",
              "      <td>0</td>\n",
              "      <td>0</td>\n",
              "      <td>0</td>\n",
              "      <td>0</td>\n",
              "      <td>0</td>\n",
              "      <td>0</td>\n",
              "      <td>0</td>\n",
              "      <td>0</td>\n",
              "    </tr>\n",
              "    <tr>\n",
              "      <th>4</th>\n",
              "      <td>7</td>\n",
              "      <td>6</td>\n",
              "      <td>11</td>\n",
              "      <td>3.83</td>\n",
              "      <td>6</td>\n",
              "      <td>212</td>\n",
              "      <td>558</td>\n",
              "      <td>4.0</td>\n",
              "      <td>3</td>\n",
              "      <td>1</td>\n",
              "      <td>0</td>\n",
              "      <td>0</td>\n",
              "      <td>1</td>\n",
              "      <td>0</td>\n",
              "      <td>1</td>\n",
              "      <td>1</td>\n",
              "      <td>0</td>\n",
              "      <td>1</td>\n",
              "      <td>0</td>\n",
              "    </tr>\n",
              "  </tbody>\n",
              "</table>\n",
              "</div>"
            ],
            "text/plain": [
              "   cool  funny  useful  user_average_stars  user_elite  user_review_count  \\\n",
              "0     2      1       2                3.80           4                369   \n",
              "1     1      0       2                3.80          10                483   \n",
              "2     1      1       1                4.14           0                  7   \n",
              "3     1      1       2                4.26           2                131   \n",
              "4     7      6      11                3.83           6                212   \n",
              "\n",
              "   business_review_count  business_average_stars  date_diff  amazing  awesome  \\\n",
              "0                     81                     4.0          4        0        0   \n",
              "1                     18                     5.0          4        0        1   \n",
              "2                    572                     4.0          1        1        0   \n",
              "3                     33                     4.0          1        0        0   \n",
              "4                    558                     4.0          3        1        0   \n",
              "\n",
              "   bad  best  favorite  good  great  hate  love  worst  \n",
              "0    1     0         0     0      0     0     0      0  \n",
              "1    0     0         0     0      0     0     0      0  \n",
              "2    0     1         0     0      0     0     0      0  \n",
              "3    0     0         0     0      0     0     0      0  \n",
              "4    0     1         0     1      1     0     1      0  "
            ]
          },
          "metadata": {
            "tags": []
          },
          "execution_count": 82
        }
      ]
    },
    {
      "cell_type": "markdown",
      "metadata": {
        "id": "uRDTqMriatBS",
        "colab_type": "text"
      },
      "source": [
        "\n",
        "## Train ML Models"
      ]
    },
    {
      "cell_type": "code",
      "metadata": {
        "id": "4A5puDM2atBT",
        "colab_type": "code",
        "colab": {}
      },
      "source": [
        "#Can't get to work right now, very very slow, unsure why.\n",
        "from sklearn.neighbors import KNeighborsClassifier\n",
        "def kn_model(X, y):\n",
        "    neighbors = list(range(1,20))\n",
        "    distances = [1, 2]\n",
        "    param_grid = {\"n_neighbors\":neighbors, \"p\":distances}\n",
        "    scores=['accuracy']\n",
        "    for score in scores:\n",
        "        clf = GridSearchCV(KNeighborsClassifier(), param_grid, cv=5, scoring=score)\n",
        "        grid_result=clf.fit(X, y)\n",
        "        best_params = grid_result.best_params_\n",
        "        print(\"Best parameters set found on development set:\")\n",
        "        print()\n",
        "        print(clf.best_params_)\n",
        "        print()\n",
        "        print(\"Grid scores on development set:\")\n",
        "        print()\n",
        "        means = clf.cv_results_['mean_test_score']\n",
        "        stds = clf.cv_results_['std_test_score']\n",
        "        for mean, std, params in zip(means, stds, clf.cv_results_['params']):\n",
        "            print(\"%0.3f (+/-%0.03f) for %r\"\n",
        "                  % (mean, std * 2, params))\n",
        "        print()\n",
        "    return grid_result\n"
      ],
      "execution_count": 0,
      "outputs": []
    },
    {
      "cell_type": "code",
      "metadata": {
        "id": "NFg11f_watBY",
        "colab_type": "code",
        "colab": {}
      },
      "source": [
        "kn_grid=kn_model(new_X_train, y_train )"
      ],
      "execution_count": 0,
      "outputs": []
    },
    {
      "cell_type": "code",
      "metadata": {
        "id": "uRIYnmgpatBb",
        "colab_type": "code",
        "colab": {}
      },
      "source": [
        "new_X_train.head()"
      ],
      "execution_count": 0,
      "outputs": []
    },
    {
      "cell_type": "markdown",
      "metadata": {
        "id": "A2tjnJMaatBg",
        "colab_type": "text"
      },
      "source": [
        "### Logistic Regression "
      ]
    },
    {
      "cell_type": "code",
      "metadata": {
        "id": "00r3VSbXatBh",
        "colab_type": "code",
        "colab": {},
        "outputId": "11f66060-2725-4947-a8bf-ab177f70d20b"
      },
      "source": [
        "lr = LogisticRegression(solver='liblinear')\n",
        "cv_results = cross_validate(lr, new_X_train, y_train, cv=5)\n",
        "cv_results['test_score']"
      ],
      "execution_count": 0,
      "outputs": [
        {
          "output_type": "execute_result",
          "data": {
            "text/plain": [
              "array([0.81056645, 0.81058728, 0.81147917, 0.80743349, 0.81035022])"
            ]
          },
          "metadata": {
            "tags": []
          },
          "execution_count": 93
        }
      ]
    },
    {
      "cell_type": "code",
      "metadata": {
        "id": "UykdljxnatBm",
        "colab_type": "code",
        "colab": {},
        "outputId": "1eebb14c-a10a-4725-cb14-9f9822634feb"
      },
      "source": [
        "lr.fit(new_X_train, y_train)"
      ],
      "execution_count": 0,
      "outputs": [
        {
          "output_type": "execute_result",
          "data": {
            "text/plain": [
              "LogisticRegression(C=1.0, class_weight=None, dual=False, fit_intercept=True,\n",
              "          intercept_scaling=1, max_iter=100, multi_class='warn',\n",
              "          n_jobs=None, penalty='l2', random_state=None, solver='liblinear',\n",
              "          tol=0.0001, verbose=0, warm_start=False)"
            ]
          },
          "metadata": {
            "tags": []
          },
          "execution_count": 94
        }
      ]
    },
    {
      "cell_type": "code",
      "metadata": {
        "id": "fWOB6oATatBq",
        "colab_type": "code",
        "colab": {},
        "outputId": "40d47377-a45c-4dc6-8320-3598d9a1f0be"
      },
      "source": [
        "y_pred = lr.predict(new_X_train)\n",
        "accuracy_score(y_pred, y_train)"
      ],
      "execution_count": 0,
      "outputs": [
        {
          "output_type": "execute_result",
          "data": {
            "text/plain": [
              "0.8101833333333334"
            ]
          },
          "metadata": {
            "tags": []
          },
          "execution_count": 96
        }
      ]
    },
    {
      "cell_type": "code",
      "metadata": {
        "id": "zJylMEOdatBu",
        "colab_type": "code",
        "colab": {}
      },
      "source": [
        "submission = pd.DataFrame(index=df_test.review_id)\n",
        "submission['is_good_rating'] = lr.predict(new_X_test)"
      ],
      "execution_count": 0,
      "outputs": []
    },
    {
      "cell_type": "code",
      "metadata": {
        "id": "qAEGuMqwatBw",
        "colab_type": "code",
        "colab": {}
      },
      "source": [
        "submission.reset_index().to_csv('submission.csv', index=False)"
      ],
      "execution_count": 0,
      "outputs": []
    },
    {
      "cell_type": "markdown",
      "metadata": {
        "id": "25Wfj_g7atB1",
        "colab_type": "text"
      },
      "source": [
        "### Linear SVC "
      ]
    },
    {
      "cell_type": "code",
      "metadata": {
        "id": "YJ5JnTJAatB3",
        "colab_type": "code",
        "colab": {},
        "outputId": "38415ba2-7182-4659-b3c3-60164543e9f8"
      },
      "source": [
        "svm = LinearSVC()\n",
        "cv_results = cross_validate(svm, new_X_train, y_train, cv=5)\n",
        "cv_results['test_score']"
      ],
      "execution_count": 0,
      "outputs": [
        {
          "output_type": "stream",
          "text": [
            "C:\\Users\\Adam\\Anaconda3\\lib\\site-packages\\sklearn\\svm\\base.py:922: ConvergenceWarning: Liblinear failed to converge, increase the number of iterations.\n",
            "  \"the number of iterations.\", ConvergenceWarning)\n"
          ],
          "name": "stderr"
        },
        {
          "output_type": "error",
          "ename": "KeyboardInterrupt",
          "evalue": "",
          "traceback": [
            "\u001b[1;31m---------------------------------------------------------------------------\u001b[0m",
            "\u001b[1;31mKeyboardInterrupt\u001b[0m                         Traceback (most recent call last)",
            "\u001b[1;32m<ipython-input-41-fbfad3722dde>\u001b[0m in \u001b[0;36m<module>\u001b[1;34m()\u001b[0m\n\u001b[0;32m      1\u001b[0m \u001b[0msvm\u001b[0m \u001b[1;33m=\u001b[0m \u001b[0mLinearSVC\u001b[0m\u001b[1;33m(\u001b[0m\u001b[1;33m)\u001b[0m\u001b[1;33m\u001b[0m\u001b[0m\n\u001b[1;32m----> 2\u001b[1;33m \u001b[0mcv_results\u001b[0m \u001b[1;33m=\u001b[0m \u001b[0mcross_validate\u001b[0m\u001b[1;33m(\u001b[0m\u001b[0msvm\u001b[0m\u001b[1;33m,\u001b[0m \u001b[0mnew_X_train\u001b[0m\u001b[1;33m,\u001b[0m \u001b[0my_train\u001b[0m\u001b[1;33m,\u001b[0m \u001b[0mcv\u001b[0m\u001b[1;33m=\u001b[0m\u001b[1;36m5\u001b[0m\u001b[1;33m)\u001b[0m\u001b[1;33m\u001b[0m\u001b[0m\n\u001b[0m\u001b[0;32m      3\u001b[0m \u001b[0mcv_results\u001b[0m\u001b[1;33m[\u001b[0m\u001b[1;34m'test_score'\u001b[0m\u001b[1;33m]\u001b[0m\u001b[1;33m\u001b[0m\u001b[0m\n",
            "\u001b[1;32m~\\Anaconda3\\lib\\site-packages\\sklearn\\model_selection\\_validation.py\u001b[0m in \u001b[0;36mcross_validate\u001b[1;34m(estimator, X, y, groups, scoring, cv, n_jobs, verbose, fit_params, pre_dispatch, return_train_score, return_estimator, error_score)\u001b[0m\n\u001b[0;32m    238\u001b[0m             \u001b[0mreturn_times\u001b[0m\u001b[1;33m=\u001b[0m\u001b[1;32mTrue\u001b[0m\u001b[1;33m,\u001b[0m \u001b[0mreturn_estimator\u001b[0m\u001b[1;33m=\u001b[0m\u001b[0mreturn_estimator\u001b[0m\u001b[1;33m,\u001b[0m\u001b[1;33m\u001b[0m\u001b[0m\n\u001b[0;32m    239\u001b[0m             error_score=error_score)\n\u001b[1;32m--> 240\u001b[1;33m         for train, test in cv.split(X, y, groups))\n\u001b[0m\u001b[0;32m    241\u001b[0m \u001b[1;33m\u001b[0m\u001b[0m\n\u001b[0;32m    242\u001b[0m     \u001b[0mzipped_scores\u001b[0m \u001b[1;33m=\u001b[0m \u001b[0mlist\u001b[0m\u001b[1;33m(\u001b[0m\u001b[0mzip\u001b[0m\u001b[1;33m(\u001b[0m\u001b[1;33m*\u001b[0m\u001b[0mscores\u001b[0m\u001b[1;33m)\u001b[0m\u001b[1;33m)\u001b[0m\u001b[1;33m\u001b[0m\u001b[0m\n",
            "\u001b[1;32m~\\Anaconda3\\lib\\site-packages\\sklearn\\externals\\joblib\\parallel.py\u001b[0m in \u001b[0;36m__call__\u001b[1;34m(self, iterable)\u001b[0m\n\u001b[0;32m    984\u001b[0m                 \u001b[0mself\u001b[0m\u001b[1;33m.\u001b[0m\u001b[0m_iterating\u001b[0m \u001b[1;33m=\u001b[0m \u001b[0mself\u001b[0m\u001b[1;33m.\u001b[0m\u001b[0m_original_iterator\u001b[0m \u001b[1;32mis\u001b[0m \u001b[1;32mnot\u001b[0m \u001b[1;32mNone\u001b[0m\u001b[1;33m\u001b[0m\u001b[0m\n\u001b[0;32m    985\u001b[0m \u001b[1;33m\u001b[0m\u001b[0m\n\u001b[1;32m--> 986\u001b[1;33m             \u001b[1;32mwhile\u001b[0m \u001b[0mself\u001b[0m\u001b[1;33m.\u001b[0m\u001b[0mdispatch_one_batch\u001b[0m\u001b[1;33m(\u001b[0m\u001b[0miterator\u001b[0m\u001b[1;33m)\u001b[0m\u001b[1;33m:\u001b[0m\u001b[1;33m\u001b[0m\u001b[0m\n\u001b[0m\u001b[0;32m    987\u001b[0m                 \u001b[1;32mpass\u001b[0m\u001b[1;33m\u001b[0m\u001b[0m\n\u001b[0;32m    988\u001b[0m \u001b[1;33m\u001b[0m\u001b[0m\n",
            "\u001b[1;32m~\\Anaconda3\\lib\\site-packages\\sklearn\\externals\\joblib\\parallel.py\u001b[0m in \u001b[0;36mdispatch_one_batch\u001b[1;34m(self, iterator)\u001b[0m\n\u001b[0;32m    823\u001b[0m                 \u001b[1;32mreturn\u001b[0m \u001b[1;32mFalse\u001b[0m\u001b[1;33m\u001b[0m\u001b[0m\n\u001b[0;32m    824\u001b[0m             \u001b[1;32melse\u001b[0m\u001b[1;33m:\u001b[0m\u001b[1;33m\u001b[0m\u001b[0m\n\u001b[1;32m--> 825\u001b[1;33m                 \u001b[0mself\u001b[0m\u001b[1;33m.\u001b[0m\u001b[0m_dispatch\u001b[0m\u001b[1;33m(\u001b[0m\u001b[0mtasks\u001b[0m\u001b[1;33m)\u001b[0m\u001b[1;33m\u001b[0m\u001b[0m\n\u001b[0m\u001b[0;32m    826\u001b[0m                 \u001b[1;32mreturn\u001b[0m \u001b[1;32mTrue\u001b[0m\u001b[1;33m\u001b[0m\u001b[0m\n\u001b[0;32m    827\u001b[0m \u001b[1;33m\u001b[0m\u001b[0m\n",
            "\u001b[1;32m~\\Anaconda3\\lib\\site-packages\\sklearn\\externals\\joblib\\parallel.py\u001b[0m in \u001b[0;36m_dispatch\u001b[1;34m(self, batch)\u001b[0m\n\u001b[0;32m    780\u001b[0m         \u001b[1;32mwith\u001b[0m \u001b[0mself\u001b[0m\u001b[1;33m.\u001b[0m\u001b[0m_lock\u001b[0m\u001b[1;33m:\u001b[0m\u001b[1;33m\u001b[0m\u001b[0m\n\u001b[0;32m    781\u001b[0m             \u001b[0mjob_idx\u001b[0m \u001b[1;33m=\u001b[0m \u001b[0mlen\u001b[0m\u001b[1;33m(\u001b[0m\u001b[0mself\u001b[0m\u001b[1;33m.\u001b[0m\u001b[0m_jobs\u001b[0m\u001b[1;33m)\u001b[0m\u001b[1;33m\u001b[0m\u001b[0m\n\u001b[1;32m--> 782\u001b[1;33m             \u001b[0mjob\u001b[0m \u001b[1;33m=\u001b[0m \u001b[0mself\u001b[0m\u001b[1;33m.\u001b[0m\u001b[0m_backend\u001b[0m\u001b[1;33m.\u001b[0m\u001b[0mapply_async\u001b[0m\u001b[1;33m(\u001b[0m\u001b[0mbatch\u001b[0m\u001b[1;33m,\u001b[0m \u001b[0mcallback\u001b[0m\u001b[1;33m=\u001b[0m\u001b[0mcb\u001b[0m\u001b[1;33m)\u001b[0m\u001b[1;33m\u001b[0m\u001b[0m\n\u001b[0m\u001b[0;32m    783\u001b[0m             \u001b[1;31m# A job can complete so quickly than its callback is\u001b[0m\u001b[1;33m\u001b[0m\u001b[1;33m\u001b[0m\u001b[0m\n\u001b[0;32m    784\u001b[0m             \u001b[1;31m# called before we get here, causing self._jobs to\u001b[0m\u001b[1;33m\u001b[0m\u001b[1;33m\u001b[0m\u001b[0m\n",
            "\u001b[1;32m~\\Anaconda3\\lib\\site-packages\\sklearn\\externals\\joblib\\_parallel_backends.py\u001b[0m in \u001b[0;36mapply_async\u001b[1;34m(self, func, callback)\u001b[0m\n\u001b[0;32m    180\u001b[0m     \u001b[1;32mdef\u001b[0m \u001b[0mapply_async\u001b[0m\u001b[1;33m(\u001b[0m\u001b[0mself\u001b[0m\u001b[1;33m,\u001b[0m \u001b[0mfunc\u001b[0m\u001b[1;33m,\u001b[0m \u001b[0mcallback\u001b[0m\u001b[1;33m=\u001b[0m\u001b[1;32mNone\u001b[0m\u001b[1;33m)\u001b[0m\u001b[1;33m:\u001b[0m\u001b[1;33m\u001b[0m\u001b[0m\n\u001b[0;32m    181\u001b[0m         \u001b[1;34m\"\"\"Schedule a func to be run\"\"\"\u001b[0m\u001b[1;33m\u001b[0m\u001b[0m\n\u001b[1;32m--> 182\u001b[1;33m         \u001b[0mresult\u001b[0m \u001b[1;33m=\u001b[0m \u001b[0mImmediateResult\u001b[0m\u001b[1;33m(\u001b[0m\u001b[0mfunc\u001b[0m\u001b[1;33m)\u001b[0m\u001b[1;33m\u001b[0m\u001b[0m\n\u001b[0m\u001b[0;32m    183\u001b[0m         \u001b[1;32mif\u001b[0m \u001b[0mcallback\u001b[0m\u001b[1;33m:\u001b[0m\u001b[1;33m\u001b[0m\u001b[0m\n\u001b[0;32m    184\u001b[0m             \u001b[0mcallback\u001b[0m\u001b[1;33m(\u001b[0m\u001b[0mresult\u001b[0m\u001b[1;33m)\u001b[0m\u001b[1;33m\u001b[0m\u001b[0m\n",
            "\u001b[1;32m~\\Anaconda3\\lib\\site-packages\\sklearn\\externals\\joblib\\_parallel_backends.py\u001b[0m in \u001b[0;36m__init__\u001b[1;34m(self, batch)\u001b[0m\n\u001b[0;32m    543\u001b[0m         \u001b[1;31m# Don't delay the application, to avoid keeping the input\u001b[0m\u001b[1;33m\u001b[0m\u001b[1;33m\u001b[0m\u001b[0m\n\u001b[0;32m    544\u001b[0m         \u001b[1;31m# arguments in memory\u001b[0m\u001b[1;33m\u001b[0m\u001b[1;33m\u001b[0m\u001b[0m\n\u001b[1;32m--> 545\u001b[1;33m         \u001b[0mself\u001b[0m\u001b[1;33m.\u001b[0m\u001b[0mresults\u001b[0m \u001b[1;33m=\u001b[0m \u001b[0mbatch\u001b[0m\u001b[1;33m(\u001b[0m\u001b[1;33m)\u001b[0m\u001b[1;33m\u001b[0m\u001b[0m\n\u001b[0m\u001b[0;32m    546\u001b[0m \u001b[1;33m\u001b[0m\u001b[0m\n\u001b[0;32m    547\u001b[0m     \u001b[1;32mdef\u001b[0m \u001b[0mget\u001b[0m\u001b[1;33m(\u001b[0m\u001b[0mself\u001b[0m\u001b[1;33m)\u001b[0m\u001b[1;33m:\u001b[0m\u001b[1;33m\u001b[0m\u001b[0m\n",
            "\u001b[1;32m~\\Anaconda3\\lib\\site-packages\\sklearn\\externals\\joblib\\parallel.py\u001b[0m in \u001b[0;36m__call__\u001b[1;34m(self)\u001b[0m\n\u001b[0;32m    259\u001b[0m         \u001b[1;32mwith\u001b[0m \u001b[0mparallel_backend\u001b[0m\u001b[1;33m(\u001b[0m\u001b[0mself\u001b[0m\u001b[1;33m.\u001b[0m\u001b[0m_backend\u001b[0m\u001b[1;33m)\u001b[0m\u001b[1;33m:\u001b[0m\u001b[1;33m\u001b[0m\u001b[0m\n\u001b[0;32m    260\u001b[0m             return [func(*args, **kwargs)\n\u001b[1;32m--> 261\u001b[1;33m                     for func, args, kwargs in self.items]\n\u001b[0m\u001b[0;32m    262\u001b[0m \u001b[1;33m\u001b[0m\u001b[0m\n\u001b[0;32m    263\u001b[0m     \u001b[1;32mdef\u001b[0m \u001b[0m__len__\u001b[0m\u001b[1;33m(\u001b[0m\u001b[0mself\u001b[0m\u001b[1;33m)\u001b[0m\u001b[1;33m:\u001b[0m\u001b[1;33m\u001b[0m\u001b[0m\n",
            "\u001b[1;32m~\\Anaconda3\\lib\\site-packages\\sklearn\\externals\\joblib\\parallel.py\u001b[0m in \u001b[0;36m<listcomp>\u001b[1;34m(.0)\u001b[0m\n\u001b[0;32m    259\u001b[0m         \u001b[1;32mwith\u001b[0m \u001b[0mparallel_backend\u001b[0m\u001b[1;33m(\u001b[0m\u001b[0mself\u001b[0m\u001b[1;33m.\u001b[0m\u001b[0m_backend\u001b[0m\u001b[1;33m)\u001b[0m\u001b[1;33m:\u001b[0m\u001b[1;33m\u001b[0m\u001b[0m\n\u001b[0;32m    260\u001b[0m             return [func(*args, **kwargs)\n\u001b[1;32m--> 261\u001b[1;33m                     for func, args, kwargs in self.items]\n\u001b[0m\u001b[0;32m    262\u001b[0m \u001b[1;33m\u001b[0m\u001b[0m\n\u001b[0;32m    263\u001b[0m     \u001b[1;32mdef\u001b[0m \u001b[0m__len__\u001b[0m\u001b[1;33m(\u001b[0m\u001b[0mself\u001b[0m\u001b[1;33m)\u001b[0m\u001b[1;33m:\u001b[0m\u001b[1;33m\u001b[0m\u001b[0m\n",
            "\u001b[1;32m~\\Anaconda3\\lib\\site-packages\\sklearn\\model_selection\\_validation.py\u001b[0m in \u001b[0;36m_fit_and_score\u001b[1;34m(estimator, X, y, scorer, train, test, verbose, parameters, fit_params, return_train_score, return_parameters, return_n_test_samples, return_times, return_estimator, error_score)\u001b[0m\n\u001b[0;32m    526\u001b[0m             \u001b[0mestimator\u001b[0m\u001b[1;33m.\u001b[0m\u001b[0mfit\u001b[0m\u001b[1;33m(\u001b[0m\u001b[0mX_train\u001b[0m\u001b[1;33m,\u001b[0m \u001b[1;33m**\u001b[0m\u001b[0mfit_params\u001b[0m\u001b[1;33m)\u001b[0m\u001b[1;33m\u001b[0m\u001b[0m\n\u001b[0;32m    527\u001b[0m         \u001b[1;32melse\u001b[0m\u001b[1;33m:\u001b[0m\u001b[1;33m\u001b[0m\u001b[0m\n\u001b[1;32m--> 528\u001b[1;33m             \u001b[0mestimator\u001b[0m\u001b[1;33m.\u001b[0m\u001b[0mfit\u001b[0m\u001b[1;33m(\u001b[0m\u001b[0mX_train\u001b[0m\u001b[1;33m,\u001b[0m \u001b[0my_train\u001b[0m\u001b[1;33m,\u001b[0m \u001b[1;33m**\u001b[0m\u001b[0mfit_params\u001b[0m\u001b[1;33m)\u001b[0m\u001b[1;33m\u001b[0m\u001b[0m\n\u001b[0m\u001b[0;32m    529\u001b[0m \u001b[1;33m\u001b[0m\u001b[0m\n\u001b[0;32m    530\u001b[0m     \u001b[1;32mexcept\u001b[0m \u001b[0mException\u001b[0m \u001b[1;32mas\u001b[0m \u001b[0me\u001b[0m\u001b[1;33m:\u001b[0m\u001b[1;33m\u001b[0m\u001b[0m\n",
            "\u001b[1;32m~\\Anaconda3\\lib\\site-packages\\sklearn\\svm\\classes.py\u001b[0m in \u001b[0;36mfit\u001b[1;34m(self, X, y, sample_weight)\u001b[0m\n\u001b[0;32m    235\u001b[0m             \u001b[0mself\u001b[0m\u001b[1;33m.\u001b[0m\u001b[0mclass_weight\u001b[0m\u001b[1;33m,\u001b[0m \u001b[0mself\u001b[0m\u001b[1;33m.\u001b[0m\u001b[0mpenalty\u001b[0m\u001b[1;33m,\u001b[0m \u001b[0mself\u001b[0m\u001b[1;33m.\u001b[0m\u001b[0mdual\u001b[0m\u001b[1;33m,\u001b[0m \u001b[0mself\u001b[0m\u001b[1;33m.\u001b[0m\u001b[0mverbose\u001b[0m\u001b[1;33m,\u001b[0m\u001b[1;33m\u001b[0m\u001b[0m\n\u001b[0;32m    236\u001b[0m             \u001b[0mself\u001b[0m\u001b[1;33m.\u001b[0m\u001b[0mmax_iter\u001b[0m\u001b[1;33m,\u001b[0m \u001b[0mself\u001b[0m\u001b[1;33m.\u001b[0m\u001b[0mtol\u001b[0m\u001b[1;33m,\u001b[0m \u001b[0mself\u001b[0m\u001b[1;33m.\u001b[0m\u001b[0mrandom_state\u001b[0m\u001b[1;33m,\u001b[0m \u001b[0mself\u001b[0m\u001b[1;33m.\u001b[0m\u001b[0mmulti_class\u001b[0m\u001b[1;33m,\u001b[0m\u001b[1;33m\u001b[0m\u001b[0m\n\u001b[1;32m--> 237\u001b[1;33m             self.loss, sample_weight=sample_weight)\n\u001b[0m\u001b[0;32m    238\u001b[0m \u001b[1;33m\u001b[0m\u001b[0m\n\u001b[0;32m    239\u001b[0m         \u001b[1;32mif\u001b[0m \u001b[0mself\u001b[0m\u001b[1;33m.\u001b[0m\u001b[0mmulti_class\u001b[0m \u001b[1;33m==\u001b[0m \u001b[1;34m\"crammer_singer\"\u001b[0m \u001b[1;32mand\u001b[0m \u001b[0mlen\u001b[0m\u001b[1;33m(\u001b[0m\u001b[0mself\u001b[0m\u001b[1;33m.\u001b[0m\u001b[0mclasses_\u001b[0m\u001b[1;33m)\u001b[0m \u001b[1;33m==\u001b[0m \u001b[1;36m2\u001b[0m\u001b[1;33m:\u001b[0m\u001b[1;33m\u001b[0m\u001b[0m\n",
            "\u001b[1;32m~\\Anaconda3\\lib\\site-packages\\sklearn\\svm\\base.py\u001b[0m in \u001b[0;36m_fit_liblinear\u001b[1;34m(X, y, C, fit_intercept, intercept_scaling, class_weight, penalty, dual, verbose, max_iter, tol, random_state, multi_class, loss, epsilon, sample_weight)\u001b[0m\n\u001b[0;32m    912\u001b[0m         \u001b[0mX\u001b[0m\u001b[1;33m,\u001b[0m \u001b[0my_ind\u001b[0m\u001b[1;33m,\u001b[0m \u001b[0msp\u001b[0m\u001b[1;33m.\u001b[0m\u001b[0misspmatrix\u001b[0m\u001b[1;33m(\u001b[0m\u001b[0mX\u001b[0m\u001b[1;33m)\u001b[0m\u001b[1;33m,\u001b[0m \u001b[0msolver_type\u001b[0m\u001b[1;33m,\u001b[0m \u001b[0mtol\u001b[0m\u001b[1;33m,\u001b[0m \u001b[0mbias\u001b[0m\u001b[1;33m,\u001b[0m \u001b[0mC\u001b[0m\u001b[1;33m,\u001b[0m\u001b[1;33m\u001b[0m\u001b[0m\n\u001b[0;32m    913\u001b[0m         \u001b[0mclass_weight_\u001b[0m\u001b[1;33m,\u001b[0m \u001b[0mmax_iter\u001b[0m\u001b[1;33m,\u001b[0m \u001b[0mrnd\u001b[0m\u001b[1;33m.\u001b[0m\u001b[0mrandint\u001b[0m\u001b[1;33m(\u001b[0m\u001b[0mnp\u001b[0m\u001b[1;33m.\u001b[0m\u001b[0miinfo\u001b[0m\u001b[1;33m(\u001b[0m\u001b[1;34m'i'\u001b[0m\u001b[1;33m)\u001b[0m\u001b[1;33m.\u001b[0m\u001b[0mmax\u001b[0m\u001b[1;33m)\u001b[0m\u001b[1;33m,\u001b[0m\u001b[1;33m\u001b[0m\u001b[0m\n\u001b[1;32m--> 914\u001b[1;33m         epsilon, sample_weight)\n\u001b[0m\u001b[0;32m    915\u001b[0m     \u001b[1;31m# Regarding rnd.randint(..) in the above signature:\u001b[0m\u001b[1;33m\u001b[0m\u001b[1;33m\u001b[0m\u001b[0m\n\u001b[0;32m    916\u001b[0m     \u001b[1;31m# seed for srand in range [0..INT_MAX); due to limitations in Numpy\u001b[0m\u001b[1;33m\u001b[0m\u001b[1;33m\u001b[0m\u001b[0m\n",
            "\u001b[1;31mKeyboardInterrupt\u001b[0m: "
          ]
        }
      ]
    },
    {
      "cell_type": "code",
      "metadata": {
        "id": "e_-XokBEatB6",
        "colab_type": "code",
        "colab": {}
      },
      "source": [
        "svm = LinearSVC()\n",
        "svm.fit(new_X_train, y_train)"
      ],
      "execution_count": 0,
      "outputs": []
    },
    {
      "cell_type": "code",
      "metadata": {
        "id": "VoKhYF6uatB8",
        "colab_type": "code",
        "colab": {},
        "outputId": "945716ef-d895-4570-f611-b8001cbe7282"
      },
      "source": [
        "accuracy_score(svm.predict(new_X_train), y_train)"
      ],
      "execution_count": 0,
      "outputs": [
        {
          "output_type": "execute_result",
          "data": {
            "text/plain": [
              "0.7427916666666666"
            ]
          },
          "metadata": {
            "tags": []
          },
          "execution_count": 134
        }
      ]
    },
    {
      "cell_type": "markdown",
      "metadata": {
        "id": "W3SW7vSJatB-",
        "colab_type": "text"
      },
      "source": [
        "### Decision Tree"
      ]
    },
    {
      "cell_type": "code",
      "metadata": {
        "id": "rZJG2ApGatB_",
        "colab_type": "code",
        "colab": {},
        "outputId": "26e78ff6-1d3b-48c8-dbcb-cfb9bb7a55ef"
      },
      "source": [
        "clf = DecisionTreeClassifier()\n",
        "cv_results = cross_validate(clf, new_X_train, y_train, cv=5)\n",
        "cv_results['test_score']"
      ],
      "execution_count": 0,
      "outputs": [
        {
          "output_type": "execute_result",
          "data": {
            "text/plain": [
              "array([0.73083894, 0.7313806 , 0.729375  , 0.72880685, 0.72647347])"
            ]
          },
          "metadata": {
            "tags": []
          },
          "execution_count": 144
        }
      ]
    },
    {
      "cell_type": "code",
      "metadata": {
        "id": "X95gHGPWatCB",
        "colab_type": "code",
        "colab": {},
        "outputId": "d62a0df2-9a77-4bed-cc4d-e7fa36175719"
      },
      "source": [
        "clf = DecisionTreeClassifier()\n",
        "clf.fit(new_X_train, y_train)"
      ],
      "execution_count": 0,
      "outputs": [
        {
          "output_type": "execute_result",
          "data": {
            "text/plain": [
              "DecisionTreeClassifier(class_weight=None, criterion='gini', max_depth=None,\n",
              "                       max_features=None, max_leaf_nodes=None,\n",
              "                       min_impurity_decrease=0.0, min_impurity_split=None,\n",
              "                       min_samples_leaf=1, min_samples_split=2,\n",
              "                       min_weight_fraction_leaf=0.0, presort=False,\n",
              "                       random_state=None, splitter='best')"
            ]
          },
          "metadata": {
            "tags": []
          },
          "execution_count": 145
        }
      ]
    },
    {
      "cell_type": "code",
      "metadata": {
        "id": "8CACGYYzatCE",
        "colab_type": "code",
        "colab": {},
        "outputId": "c5e8aa86-3cee-494d-eda0-f8ce7ee97ab5"
      },
      "source": [
        "accuracy_score(clf.predict(new_X_train), y_train)"
      ],
      "execution_count": 0,
      "outputs": [
        {
          "output_type": "execute_result",
          "data": {
            "text/plain": [
              "0.9994166666666666"
            ]
          },
          "metadata": {
            "tags": []
          },
          "execution_count": 146
        }
      ]
    },
    {
      "cell_type": "code",
      "metadata": {
        "id": "KYRrXu0jatCG",
        "colab_type": "code",
        "colab": {}
      },
      "source": [
        ""
      ],
      "execution_count": 0,
      "outputs": []
    }
  ]
}